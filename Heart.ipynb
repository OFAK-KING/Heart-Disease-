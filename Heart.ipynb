{
 "cells": [
  {
   "cell_type": "code",
   "execution_count": 39,
   "metadata": {},
   "outputs": [],
   "source": [
    "import pandas as pd\n",
    "import numpy as np\n",
    "from sklearn import preprocessing\n",
    "from sklearn.model_selection import train_test_split, GridSearchCV\n",
    "import statsmodels.api as sm\n",
    "from sklearn.linear_model import LogisticRegressionCV\n",
    "from sklearn.metrics import confusion_matrix, accuracy_score\n",
    "import matplotlib.pyplot as plt\n",
    "from sklearn import metrics\n",
    "from sklearn.metrics import roc_curve, auc\n",
    "from sklearn.tree import DecisionTreeRegressor"
   ]
  },
  {
   "cell_type": "markdown",
   "metadata": {},
   "source": [
    "## Load the dataset"
   ]
  },
  {
   "cell_type": "code",
   "execution_count": 2,
   "metadata": {},
   "outputs": [],
   "source": [
    "#Reading the adtaset into Jupyter Environment using variable path of easy replication\n",
    "Path = '../Data/'\n",
    "Filename = 'Heart.csv'\n",
    "Dataset = pd.read_csv(Path + Filename, index_col=0)"
   ]
  },
  {
   "cell_type": "code",
   "execution_count": 3,
   "metadata": {},
   "outputs": [
    {
     "name": "stdout",
     "output_type": "stream",
     "text": [
      "<bound method NDFrame.head of      Age  Sex     ChestPain  RestBP  Chol  Fbs  RestECG  MaxHR  ExAng  \\\n",
      "1     63    1       typical     145   233    1        2    150      0   \n",
      "2     67    1  asymptomatic     160   286    0        2    108      1   \n",
      "3     67    1  asymptomatic     120   229    0        2    129      1   \n",
      "4     37    1    nonanginal     130   250    0        0    187      0   \n",
      "5     41    0    nontypical     130   204    0        2    172      0   \n",
      "..   ...  ...           ...     ...   ...  ...      ...    ...    ...   \n",
      "299   45    1       typical     110   264    0        0    132      0   \n",
      "300   68    1  asymptomatic     144   193    1        0    141      0   \n",
      "301   57    1  asymptomatic     130   131    0        0    115      1   \n",
      "302   57    0    nontypical     130   236    0        2    174      0   \n",
      "303   38    1    nonanginal     138   175    0        0    173      0   \n",
      "\n",
      "     Oldpeak  Slope   Ca        Thal  AHD  AHD-con  \n",
      "1        2.3      3  0.0       fixed   No        0  \n",
      "2        1.5      2  3.0      normal  Yes        1  \n",
      "3        2.6      2  2.0  reversable  Yes        1  \n",
      "4        3.5      3  0.0      normal   No        0  \n",
      "5        1.4      1  0.0      normal   No        0  \n",
      "..       ...    ...  ...         ...  ...      ...  \n",
      "299      1.2      2  0.0  reversable  Yes        1  \n",
      "300      3.4      2  2.0  reversable  Yes        1  \n",
      "301      1.2      2  1.0  reversable  Yes        1  \n",
      "302      0.0      2  1.0      normal  Yes        1  \n",
      "303      0.0      1  NaN      normal   No        0  \n",
      "\n",
      "[303 rows x 15 columns]>\n",
      "<bound method NDFrame.tail of      Age  Sex     ChestPain  RestBP  Chol  Fbs  RestECG  MaxHR  ExAng  \\\n",
      "1     63    1       typical     145   233    1        2    150      0   \n",
      "2     67    1  asymptomatic     160   286    0        2    108      1   \n",
      "3     67    1  asymptomatic     120   229    0        2    129      1   \n",
      "4     37    1    nonanginal     130   250    0        0    187      0   \n",
      "5     41    0    nontypical     130   204    0        2    172      0   \n",
      "..   ...  ...           ...     ...   ...  ...      ...    ...    ...   \n",
      "299   45    1       typical     110   264    0        0    132      0   \n",
      "300   68    1  asymptomatic     144   193    1        0    141      0   \n",
      "301   57    1  asymptomatic     130   131    0        0    115      1   \n",
      "302   57    0    nontypical     130   236    0        2    174      0   \n",
      "303   38    1    nonanginal     138   175    0        0    173      0   \n",
      "\n",
      "     Oldpeak  Slope   Ca        Thal  AHD  AHD-con  \n",
      "1        2.3      3  0.0       fixed   No        0  \n",
      "2        1.5      2  3.0      normal  Yes        1  \n",
      "3        2.6      2  2.0  reversable  Yes        1  \n",
      "4        3.5      3  0.0      normal   No        0  \n",
      "5        1.4      1  0.0      normal   No        0  \n",
      "..       ...    ...  ...         ...  ...      ...  \n",
      "299      1.2      2  0.0  reversable  Yes        1  \n",
      "300      3.4      2  2.0  reversable  Yes        1  \n",
      "301      1.2      2  1.0  reversable  Yes        1  \n",
      "302      0.0      2  1.0      normal  Yes        1  \n",
      "303      0.0      1  NaN      normal   No        0  \n",
      "\n",
      "[303 rows x 15 columns]>\n",
      "               Age         Sex     ChestPain      RestBP        Chol  \\\n",
      "count   303.000000  303.000000           303  303.000000  303.000000   \n",
      "unique         NaN         NaN             4         NaN         NaN   \n",
      "top            NaN         NaN  asymptomatic         NaN         NaN   \n",
      "freq           NaN         NaN           144         NaN         NaN   \n",
      "mean     54.438944    0.679868           NaN  131.689769  246.693069   \n",
      "std       9.038662    0.467299           NaN   17.599748   51.776918   \n",
      "min      29.000000    0.000000           NaN   94.000000  126.000000   \n",
      "25%      48.000000    0.000000           NaN  120.000000  211.000000   \n",
      "50%      56.000000    1.000000           NaN  130.000000  241.000000   \n",
      "75%      61.000000    1.000000           NaN  140.000000  275.000000   \n",
      "max      77.000000    1.000000           NaN  200.000000  564.000000   \n",
      "\n",
      "               Fbs     RestECG       MaxHR       ExAng     Oldpeak  \\\n",
      "count   303.000000  303.000000  303.000000  303.000000  303.000000   \n",
      "unique         NaN         NaN         NaN         NaN         NaN   \n",
      "top            NaN         NaN         NaN         NaN         NaN   \n",
      "freq           NaN         NaN         NaN         NaN         NaN   \n",
      "mean      0.148515    0.990099  149.607261    0.326733    1.039604   \n",
      "std       0.356198    0.994971   22.875003    0.469794    1.161075   \n",
      "min       0.000000    0.000000   71.000000    0.000000    0.000000   \n",
      "25%       0.000000    0.000000  133.500000    0.000000    0.000000   \n",
      "50%       0.000000    1.000000  153.000000    0.000000    0.800000   \n",
      "75%       0.000000    2.000000  166.000000    1.000000    1.600000   \n",
      "max       1.000000    2.000000  202.000000    1.000000    6.200000   \n",
      "\n",
      "             Slope          Ca    Thal  AHD     AHD-con  \n",
      "count   303.000000  299.000000     301  303  303.000000  \n",
      "unique         NaN         NaN       3    2         NaN  \n",
      "top            NaN         NaN  normal   No         NaN  \n",
      "freq           NaN         NaN     166  164         NaN  \n",
      "mean      1.600660    0.672241     NaN  NaN    0.458746  \n",
      "std       0.616226    0.937438     NaN  NaN    0.499120  \n",
      "min       1.000000    0.000000     NaN  NaN    0.000000  \n",
      "25%       1.000000    0.000000     NaN  NaN    0.000000  \n",
      "50%       2.000000    0.000000     NaN  NaN    0.000000  \n",
      "75%       2.000000    1.000000     NaN  NaN    1.000000  \n",
      "max       3.000000    3.000000     NaN  NaN    1.000000  \n"
     ]
    }
   ],
   "source": [
    "#Looking at th few segment of the data and other characteristics\n",
    "print (Dataset.head)\n",
    "print (Dataset.tail)\n",
    "print(Dataset.describe(include = 'all'))"
   ]
  },
  {
   "cell_type": "code",
   "execution_count": 4,
   "metadata": {},
   "outputs": [
    {
     "data": {
      "text/plain": [
       "Age          0\n",
       "Sex          0\n",
       "ChestPain    0\n",
       "RestBP       0\n",
       "Chol         0\n",
       "Fbs          0\n",
       "RestECG      0\n",
       "MaxHR        0\n",
       "ExAng        0\n",
       "Oldpeak      0\n",
       "Slope        0\n",
       "Ca           4\n",
       "Thal         2\n",
       "AHD          0\n",
       "AHD-con      0\n",
       "dtype: int64"
      ]
     },
     "execution_count": 4,
     "metadata": {},
     "output_type": "execute_result"
    }
   ],
   "source": [
    "#Check NaN\n",
    "len(Dataset)-Dataset.count()"
   ]
  },
  {
   "cell_type": "markdown",
   "metadata": {},
   "source": [
    "**From the above, it shows that columns; Ca and Thal are missing 4 and 2 observations respectively. There are several ways that missing obs can be dealt with but since the data did not come with an individual variable description and not having much knowledge about them I will just drop those observations for simplicity.**"
   ]
  },
  {
   "cell_type": "markdown",
   "metadata": {},
   "source": [
    "## Data Preprocessing"
   ]
  },
  {
   "cell_type": "code",
   "execution_count": 6,
   "metadata": {},
   "outputs": [
    {
     "name": "stdout",
     "output_type": "stream",
     "text": [
      "Age\n",
      "[63 67 37 41 56 62 57 53 44 52 48 54 49 64 58 60 50 66 43 40 69 59 42 55\n",
      " 61 65 71 51 46 45 39 68 47 34 35 29 70 77 38 74 76]\n",
      "Sex\n",
      "[1 0]\n",
      "ChestPain\n",
      "['typical' 'asymptomatic' 'nonanginal' 'nontypical']\n",
      "RestBP\n",
      "[145 160 120 130 140 172 150 110 132 117 135 112 105 124 125 142 128 170\n",
      " 155 104 180 138 108 134 122 115 118 100 200  94 165 102 152 101 126 174\n",
      " 148 178 158 192 129 144 123 136 146 106 156 154 114 164]\n",
      "Chol\n",
      "[233 286 229 250 204 236 268 354 254 203 192 294 256 263 199 168 239 275\n",
      " 266 211 283 284 224 206 219 340 226 247 167 230 335 234 177 276 353 243\n",
      " 225 302 212 330 175 417 197 198 290 253 172 273 213 305 216 304 188 282\n",
      " 185 232 326 231 269 267 248 360 258 308 245 270 208 264 321 274 325 235\n",
      " 257 164 141 252 255 201 222 260 182 303 265 309 307 249 186 341 183 407\n",
      " 217 288 220 209 227 261 174 281 221 205 240 289 318 298 564 246 322 299\n",
      " 300 293 277 214 207 223 160 394 184 315 409 244 195 196 126 313 259 200\n",
      " 262 215 228 193 271 210 327 149 295 306 178 237 218 242 319 166 180 311\n",
      " 278 342 169 187 157 176 241 131]\n",
      "Fbs\n",
      "[1 0]\n",
      "RestECG\n",
      "[2 0 1]\n",
      "MaxHR\n",
      "[150 108 129 187 172 178 160 163 147 155 148 153 142 173 162 174 168 139\n",
      " 171 144 132 158 114 151 161 179 120 112 137 157 169 165 123 128 152 140\n",
      " 188 109 125 131 170 113  99 177 141 180 111 143 182 156 115 149 145 146\n",
      " 175 186 185 159 130 190 136  97 127 154 133 126 202 103 166 164 184 124\n",
      " 122  96 138  88 105 194 195 106 167  95 192 117 121 116  71 118 181 134\n",
      "  90]\n",
      "ExAng\n",
      "[0 1]\n",
      "Oldpeak\n",
      "[2.3 1.5 2.6 3.5 1.4 0.8 3.6 0.6 3.1 0.4 1.3 0.  0.5 1.6 1.  1.2 0.2 1.8\n",
      " 3.2 2.4 2.  2.5 2.2 2.8 3.  3.4 6.2 4.  5.6 2.9 0.1 2.1 1.9 4.2 0.9 1.1\n",
      " 3.8 0.7 0.3 4.4]\n",
      "Slope\n",
      "[3 2 1]\n",
      "Ca\n",
      "[ 0.  3.  2.  1. nan]\n",
      "Thal\n",
      "['fixed' 'normal' 'reversable' nan]\n",
      "AHD\n",
      "['No' 'Yes']\n",
      "AHD-con\n",
      "[0 1]\n"
     ]
    }
   ],
   "source": [
    "#Check the number of unique entries in every variables\n",
    "for i in Dataset.columns:\n",
    "    print(i)\n",
    "    print(Dataset[i].unique())"
   ]
  },
  {
   "cell_type": "code",
   "execution_count": 8,
   "metadata": {},
   "outputs": [],
   "source": [
    "#drop the rows with NaNs\n",
    "Dataset.dropna(inplace=True)\n",
    "Dataset.reset_index(drop=True, inplace=True)"
   ]
  },
  {
   "cell_type": "code",
   "execution_count": 9,
   "metadata": {},
   "outputs": [
    {
     "data": {
      "text/plain": [
       "Age          0\n",
       "Sex          0\n",
       "ChestPain    0\n",
       "RestBP       0\n",
       "Chol         0\n",
       "Fbs          0\n",
       "RestECG      0\n",
       "MaxHR        0\n",
       "ExAng        0\n",
       "Oldpeak      0\n",
       "Slope        0\n",
       "Ca           0\n",
       "Thal         0\n",
       "AHD          0\n",
       "AHD-con      0\n",
       "dtype: int64"
      ]
     },
     "execution_count": 9,
     "metadata": {},
     "output_type": "execute_result"
    }
   ],
   "source": [
    "#Check if there are still NaN\n",
    "len(Dataset)-Dataset.count()"
   ]
  },
  {
   "cell_type": "markdown",
   "metadata": {},
   "source": [
    "**ENCODING CATEGORICAL FEATURES**"
   ]
  },
  {
   "cell_type": "code",
   "execution_count": 11,
   "metadata": {},
   "outputs": [
    {
     "name": "stdout",
     "output_type": "stream",
     "text": [
      "   Age  RestBP  Chol  MaxHR  Oldpeak  AHD  AHD-con  Sex_0  Sex_1  \\\n",
      "0   63     145   233    150      2.3   No        0      0      1   \n",
      "1   67     160   286    108      1.5  Yes        1      0      1   \n",
      "2   67     120   229    129      2.6  Yes        1      0      1   \n",
      "3   37     130   250    187      3.5   No        0      0      1   \n",
      "4   41     130   204    172      1.4   No        0      1      0   \n",
      "\n",
      "   ChestPain_asymptomatic  ...  Slope_1  Slope_2  Slope_3  Ca_0.0  Ca_1.0  \\\n",
      "0                       0  ...        0        0        1       1       0   \n",
      "1                       1  ...        0        1        0       0       0   \n",
      "2                       1  ...        0        1        0       0       0   \n",
      "3                       0  ...        0        0        1       1       0   \n",
      "4                       0  ...        1        0        0       1       0   \n",
      "\n",
      "   Ca_2.0  Ca_3.0  Thal_fixed  Thal_normal  Thal_reversable  \n",
      "0       0       0           1            0                0  \n",
      "1       0       1           0            1                0  \n",
      "2       1       0           0            0                1  \n",
      "3       0       0           0            1                0  \n",
      "4       0       0           0            1                0  \n",
      "\n",
      "[5 rows x 30 columns]\n"
     ]
    }
   ],
   "source": [
    "# create dummy variables\n",
    "Dataset1= pd.get_dummies(Dataset, columns=[ 'Sex', 'ChestPain','Fbs','RestECG','ExAng','Slope', 'Ca','Thal'])\n",
    "print(Dataset1.head())"
   ]
  },
  {
   "cell_type": "markdown",
   "metadata": {},
   "source": [
    "'Age','RestBP','Chol','MaxHR','Oldpeak','Sex_0','Sex_1','ChestPain_asymptomatic','ChestPain_nonanginal',\n",
    "                    'ChestPain_nontypical','ChestPain_typical','Fbs_0','Fbs_1','RestECG_0','RestECG_1','RestECG_2','ExAng_0',\n",
    "                    'ExAng_1','Slope_1','Slope_2','Slope_3','Ca_0.0','Ca_1.0','Ca_2.0','Ca_3.0','Thal_fixed','Thal_normal','Thal_reversable'"
   ]
  },
  {
   "cell_type": "markdown",
   "metadata": {},
   "source": [
    "**Dividing the DataFrame to Response and Explanatory Variables**"
   ]
  },
  {
   "cell_type": "code",
   "execution_count": 12,
   "metadata": {},
   "outputs": [
    {
     "name": "stdout",
     "output_type": "stream",
     "text": [
      "[[145.  233.  150.    2.3   0.    1.    0.    0.    0.    1.    0.    1.\n",
      "    0.    0.    1.    1.    0.    0.    0.    1.    1.    0.    0.    0.\n",
      "    1.    0.    0. ]\n",
      " [160.  286.  108.    1.5   0.    1.    1.    0.    0.    0.    1.    0.\n",
      "    0.    0.    1.    0.    1.    0.    1.    0.    0.    0.    0.    1.\n",
      "    0.    1.    0. ]\n",
      " [120.  229.  129.    2.6   0.    1.    1.    0.    0.    0.    1.    0.\n",
      "    0.    0.    1.    0.    1.    0.    1.    0.    0.    0.    1.    0.\n",
      "    0.    0.    1. ]\n",
      " [130.  250.  187.    3.5   0.    1.    0.    1.    0.    0.    1.    0.\n",
      "    1.    0.    0.    1.    0.    0.    0.    1.    1.    0.    0.    0.\n",
      "    0.    1.    0. ]\n",
      " [130.  204.  172.    1.4   1.    0.    0.    0.    1.    0.    1.    0.\n",
      "    0.    0.    1.    1.    0.    1.    0.    0.    1.    0.    0.    0.\n",
      "    0.    1.    0. ]]\n",
      "[0 0 0 0 0 0 0 0 0 0 0 0 0 0 0 0 0 0 0 0 0 0 0 0 0 0 0]\n"
     ]
    }
   ],
   "source": [
    "# extract the Independent Variables\n",
    "X = np.array(Dataset1.drop(['AHD', 'AHD-con'], axis=1).values, dtype='float64')\n",
    "X = X[:,1:]\n",
    "print(X[:5,:])\n",
    "print(np.isnan(X).sum(axis=0))"
   ]
  },
  {
   "cell_type": "code",
   "execution_count": 13,
   "metadata": {},
   "outputs": [
    {
     "name": "stdout",
     "output_type": "stream",
     "text": [
      "[0. 1. 1. 0. 0. 0. 1. 0. 1. 1. 0. 0. 1. 0. 0. 0. 1. 0. 0. 0. 0. 0. 1. 1.\n",
      " 1. 0. 0. 0. 0. 1. 0. 1. 1. 0. 0. 0. 1. 1. 1. 0. 1. 0. 0. 0. 1. 1. 0. 1.\n",
      " 0. 0. 0. 0. 1. 0. 1. 1. 1. 1. 0. 0. 1. 0. 1. 0. 1. 1. 1. 0. 1. 1. 0. 1.\n",
      " 1. 1. 1. 0. 1. 0. 0. 1. 0. 0. 0. 1. 0. 0. 0. 0. 0. 0. 1. 0. 0. 0. 1. 1.\n",
      " 1. 0. 0. 0. 0. 0. 0. 1. 0. 1. 1. 1. 1. 1. 1. 0. 1. 1. 0. 0. 0. 1. 1. 1.\n",
      " 1. 0. 1. 1. 0. 1. 1. 0. 0. 0. 0. 0. 0. 0. 0. 1. 1. 1. 0. 0. 1. 0. 1. 0.\n",
      " 1. 1. 0. 0. 0. 0. 0. 0. 1. 1. 1. 1. 1. 1. 0. 0. 1. 0. 0. 0. 0. 0. 1. 0.\n",
      " 1. 0. 1. 0. 1. 1. 0. 1. 0. 0. 1. 1. 0. 0. 1. 0. 0. 1. 1. 1. 0. 1. 1. 0.\n",
      " 1. 0. 0. 0. 1. 0. 0. 0. 0. 0. 1. 1. 1. 0. 1. 0. 1. 0. 1. 1. 0. 0. 0. 0.\n",
      " 0. 0. 0. 0. 1. 1. 0. 0. 0. 1. 1. 0. 1. 1. 0. 0. 1. 1. 1. 0. 0. 0. 0. 0.\n",
      " 1. 0. 1. 1. 1. 1. 0. 0. 1. 0. 0. 0. 0. 0. 0. 0. 1. 0. 1. 0. 0. 1. 1. 1.\n",
      " 1. 0. 1. 0. 1. 0. 1. 0. 0. 0. 1. 0. 1. 0. 1. 0. 1. 1. 1. 0. 0. 1. 0. 1.\n",
      " 1. 1. 0. 1. 1. 1. 1. 1. 1.]\n"
     ]
    }
   ],
   "source": [
    "# extract the Dependent Variables\n",
    "y = np.array(Dataset1['AHD-con'].values, dtype='float64')\n",
    "print(y)"
   ]
  },
  {
   "cell_type": "markdown",
   "metadata": {},
   "source": [
    "**Standardization**\n",
    "\n",
    "*Standardize the independent variables by removing the mean and scaling to unit variance so that the bigger variables do not dominant*"
   ]
  },
  {
   "cell_type": "code",
   "execution_count": 15,
   "metadata": {},
   "outputs": [],
   "source": [
    "scaler = preprocessing.StandardScaler().fit(X)\n",
    "X_scaled = scaler.transform(X)"
   ]
  },
  {
   "cell_type": "markdown",
   "metadata": {},
   "source": [
    "**Creating Training and  Testing Set**"
   ]
  },
  {
   "cell_type": "code",
   "execution_count": 16,
   "metadata": {},
   "outputs": [],
   "source": [
    "#Split the Data into Training and Testing Set 70/30 respectively (percentage choice, following common practices) \n",
    "X_train, X_test, y_train, y_test = train_test_split(X_scaled, y, test_size = 0.30, random_state = 0)"
   ]
  },
  {
   "cell_type": "markdown",
   "metadata": {},
   "source": [
    "## Model Training"
   ]
  },
  {
   "cell_type": "code",
   "execution_count": 27,
   "metadata": {},
   "outputs": [
    {
     "name": "stdout",
     "output_type": "stream",
     "text": [
      "Warning: Maximum number of iterations has been exceeded.\n",
      "         Current function value: 0.283473\n",
      "         Iterations: 35\n",
      "                           Results: Logit\n",
      "=====================================================================\n",
      "Model:                Logit             Pseudo R-squared:  0.589     \n",
      "Dependent Variable:   y                 AIC:               155.3580  \n",
      "Date:                 2019-10-22 00:41  BIC:               218.6796  \n",
      "No. Observations:     207               Log-Likelihood:    -58.679   \n",
      "Df Model:             18                LL-Null:           -142.78   \n",
      "Df Residuals:         188               LLR p-value:       2.0421e-26\n",
      "Converged:            0.0000            Scale:             1.0000    \n",
      "No. Iterations:       35.0000                                        \n",
      "---------------------------------------------------------------------\n",
      "     Coef.     Std.Err.      z    P>|z|      [0.025         0.975]   \n",
      "---------------------------------------------------------------------\n",
      "x1   0.8579        0.2666  3.2182 0.0013         0.3354        1.3804\n",
      "x2   0.3657        0.2647  1.3813 0.1672        -0.1532        0.8846\n",
      "x3  -0.6650        0.3468 -1.9177 0.0551        -1.3446        0.0147\n",
      "x4   0.7567        0.3709  2.0401 0.0413         0.0297        1.4837\n",
      "x5  -0.3473           nan     nan    nan            nan           nan\n",
      "x6   0.3473           nan     nan    nan            nan           nan\n",
      "x7   0.7329 14014696.1177  0.0000 1.0000 -27468298.9121 27468300.3779\n",
      "x8  -0.6504 12589822.2031 -0.0000 1.0000 -24675598.7403 24675597.4394\n",
      "x9   0.0478 10413519.7369  0.0000 1.0000 -20410123.5888 20410123.6844\n",
      "x10 -0.3441  7499164.2098 -0.0000 1.0000 -14698092.1094 14698091.4212\n",
      "x11  0.0738 19499736.4965  0.0000 1.0000 -38218781.1673 38218781.3149\n",
      "x12 -0.0738 19499736.4965 -0.0000 1.0000 -38218781.3149 38218781.1673\n",
      "x13 -0.0792  7939613.1989 -0.0000 1.0000 -15561356.0002 15561355.8417\n",
      "x14  0.0339  1830454.1459  0.0000 1.0000  -3587624.1673  3587624.2352\n",
      "x15  0.0714  7938893.0199  0.0000 1.0000 -15559944.3247 15559944.4675\n",
      "x16 -0.1785 10774553.5221 -0.0000 1.0000 -21117737.0312 21117736.6743\n",
      "x17  0.1785 10774553.5221  0.0000 1.0000 -21117736.6743 21117737.0312\n",
      "x18 -0.2845           nan     nan    nan            nan           nan\n",
      "x19  0.1821           nan     nan    nan            nan           nan\n",
      "x20  0.1997           nan     nan    nan            nan           nan\n",
      "x21 -0.5686 24375827.0289 -0.0000 1.0000 -47775743.6386 47775742.5014\n",
      "x22  0.4381 20461282.4456  0.0000 1.0000 -40103376.2328 40103377.1090\n",
      "x23  0.4761 16530038.3048  0.0000 1.0000 -32398279.2643 32398280.2165\n",
      "x24 -0.2398 12401866.7827 -0.0000 1.0000 -24307212.4751 24307211.9954\n",
      "x25 -0.1327           nan     nan    nan            nan           nan\n",
      "x26 -0.3708           nan     nan    nan            nan           nan\n",
      "x27  0.4435           nan     nan    nan            nan           nan\n",
      "=====================================================================\n",
      "\n"
     ]
    },
    {
     "name": "stderr",
     "output_type": "stream",
     "text": [
      "C:\\Users\\CHERPENS\\Anaconda3\\lib\\site-packages\\statsmodels\\base\\model.py:512: ConvergenceWarning: Maximum Likelihood optimization failed to converge. Check mle_retvals\n",
      "  \"Check mle_retvals\", ConvergenceWarning)\n",
      "C:\\Users\\CHERPENS\\Anaconda3\\lib\\site-packages\\statsmodels\\base\\model.py:1286: RuntimeWarning: invalid value encountered in sqrt\n",
      "  bse_ = np.sqrt(np.diag(self.cov_params()))\n",
      "C:\\Users\\CHERPENS\\Anaconda3\\lib\\site-packages\\scipy\\stats\\_distn_infrastructure.py:901: RuntimeWarning: invalid value encountered in greater\n",
      "  return (a < x) & (x < b)\n",
      "C:\\Users\\CHERPENS\\Anaconda3\\lib\\site-packages\\scipy\\stats\\_distn_infrastructure.py:901: RuntimeWarning: invalid value encountered in less\n",
      "  return (a < x) & (x < b)\n",
      "C:\\Users\\CHERPENS\\Anaconda3\\lib\\site-packages\\scipy\\stats\\_distn_infrastructure.py:1892: RuntimeWarning: invalid value encountered in less_equal\n",
      "  cond2 = cond0 & (x <= _a)\n"
     ]
    }
   ],
   "source": [
    "LogRegSM = sm.Logit(y_train,X_train).fit()\n",
    "print(LogRegSM.summary2())"
   ]
  },
  {
   "cell_type": "markdown",
   "metadata": {},
   "source": [
    "**From the model above most of the variables should not enter the final model but since I do not know much about the data will try L1 and L2**"
   ]
  },
  {
   "cell_type": "code",
   "execution_count": 28,
   "metadata": {},
   "outputs": [
    {
     "name": "stdout",
     "output_type": "stream",
     "text": [
      "1/alpha =  [0.43215111]\n",
      "coef =  [[ 0.55709321  0.17887082 -0.42228616  0.43104789 -0.14522231  0.22967562\n",
      "   0.74205509 -0.27972479  0.         -0.03360822  0.03062691 -0.00090001\n",
      "   0.          0.          0.02168335 -0.31745289  0.00474175 -0.33501835\n",
      "   0.          0.         -0.74548789  0.          0.08532902 -0.12549535\n",
      "   0.         -0.2098763   0.41958353]]\n",
      "accuracy training =  0.8743961352657005\n",
      "accuracy Testing =  0.8333333333333334\n"
     ]
    }
   ],
   "source": [
    "LogRegCV = LogisticRegressionCV(Cs = 1000, cv = 13, penalty = 'l1', random_state = 0, multi_class = 'ovr', \n",
    "                                solver = 'liblinear', max_iter = 1000, n_jobs = -1, class_weight = 'balanced')\n",
    "LogRegCV.fit(X_train, y_train)\n",
    "print('1/alpha = ', LogRegCV.C_) \n",
    "print('coef = ', LogRegCV.coef_)\n",
    "print('accuracy training = ', LogRegCV.score(X_train,y_train))\n",
    "print('accuracy Testing = ', LogRegCV.score(X_test,y_test))"
   ]
  },
  {
   "cell_type": "code",
   "execution_count": 17,
   "metadata": {},
   "outputs": [
    {
     "name": "stdout",
     "output_type": "stream",
     "text": [
      "1/alpha =  [0.06734151]\n",
      "coef =  [[ 0.24865397  0.10725865 -0.18299495  0.18427607 -0.11003294  0.11003294\n",
      "   0.24995272 -0.20288083 -0.03437414 -0.07878504  0.02727497 -0.02727497\n",
      "  -0.02597727 -0.004678    0.02705822 -0.09779407  0.09779407 -0.11340503\n",
      "   0.09054061  0.04467599 -0.20855558  0.1331051   0.16746198 -0.03289338\n",
      "  -0.00573626 -0.15696364  0.16304662]]\n",
      "accuracy training =  0.8840579710144928\n",
      "accuracy Testing =  0.8222222222222222\n"
     ]
    }
   ],
   "source": [
    "# Logistic Regression - L2 with 100 regularization coefficients and 10-fold cross-validation \n",
    "LogRegCV = LogisticRegressionCV(Cs = 100, cv = 10, penalty = 'l2', random_state = 0, multi_class = 'multinomial', \n",
    "                                solver = 'lbfgs', max_iter=1000, n_jobs = -1)\n",
    "LogRegCV.fit(X_train, y_train)\n",
    "print('1/alpha = ', LogRegCV.C_) \n",
    "print('coef = ', LogRegCV.coef_)\n",
    "print('accuracy training = ', LogRegCV.score(X_train,y_train))\n",
    "print('accuracy Testing = ', LogRegCV.score(X_test,y_test))"
   ]
  },
  {
   "cell_type": "code",
   "execution_count": 18,
   "metadata": {},
   "outputs": [
    {
     "name": "stdout",
     "output_type": "stream",
     "text": [
      "generalized accuracy =  [0.86374459]\n"
     ]
    }
   ],
   "source": [
    "all_scores = LogRegCV.scores_[1.0].mean(axis = 0)\n",
    "print('generalized accuracy = ', all_scores[LogRegCV.Cs_ == LogRegCV.C_])"
   ]
  },
  {
   "cell_type": "markdown",
   "metadata": {},
   "source": [
    "**AUC**"
   ]
  },
  {
   "cell_type": "code",
   "execution_count": 24,
   "metadata": {},
   "outputs": [
    {
     "data": {
      "text/plain": [
       "0.894345238095238"
      ]
     },
     "execution_count": 24,
     "metadata": {},
     "output_type": "execute_result"
    }
   ],
   "source": [
    "y_score = LogRegCV.predict_proba(X_test)[:,1]\n",
    "\n",
    "# Compute ROC curve and ROC area for each class\n",
    "fpr, tpr, thresholds = roc_curve(y_test, y_score)\n",
    "AUC = auc(fpr, tpr)\n",
    "AUC"
   ]
  },
  {
   "cell_type": "markdown",
   "metadata": {},
   "source": [
    "**ROC Curve**"
   ]
  },
  {
   "cell_type": "code",
   "execution_count": 25,
   "metadata": {},
   "outputs": [
    {
     "data": {
      "image/png": "[encoded data removed]",
      "text/plain": [
       "<Figure size 432x288 with 1 Axes>"
      ]
     },
     "metadata": {
      "needs_background": "light"
     },
     "output_type": "display_data"
    }
   ],
   "source": [
    "plt.figure()\n",
    "lw = 2\n",
    "plt.plot(fpr, tpr, color='darkorange',\n",
    "         lw=lw, label='ROC curve (area = %0.2f)' % AUC)\n",
    "plt.plot([0, 1], [0, 1], color='navy', lw=lw, linestyle='--')\n",
    "plt.xlim([0.0, 1.0])\n",
    "plt.ylim([0.0, 1.05])\n",
    "plt.xlabel('False Positive Rate')\n",
    "plt.ylabel('True Positive Rate')\n",
    "plt.title('Receiver operating characteristic example')\n",
    "plt.legend(loc=\"lower right\")\n",
    "plt.show()"
   ]
  },
  {
   "cell_type": "markdown",
   "metadata": {},
   "source": [
    "## Decision Tree"
   ]
  },
  {
   "cell_type": "code",
   "execution_count": 31,
   "metadata": {},
   "outputs": [],
   "source": [
    "def train_score_Classifier(sklearn_Classifier, X_train, y_train, X_test, y_test, model_parameters, print_oob_score=False):\n",
    "   \n",
    "    # Step 1: Initializing the general sklearn Classifier with the model's specific parameters \n",
    "    Classifier = sklearn_Classifier(**model_parameters)\n",
    "    \n",
    "    # Step 2: Training the model on the X_train dataset of features and y_train, the associated target features\n",
    "    Classifier.fit(X_train, y_train)\n",
    "    \n",
    "    # Step 3: Calculating the score of the predictive power on the training and testing dataset.\n",
    "    train_score = Classifier.score(X_train, y_train)\n",
    "    test_score = Classifier.score(X_test, y_test)\n",
    "    \n",
    "    # Printing results\n",
    "    print('Train Set Score:', train_score)\n",
    "    print('Test Set Score:', test_score)\n",
    "    \n",
    "    return Classifier"
   ]
  },
  {
   "cell_type": "code",
   "execution_count": 34,
   "metadata": {},
   "outputs": [
    {
     "name": "stdout",
     "output_type": "stream",
     "text": [
      "Train Set Score: 1.0\n",
      "Test Set Score: -0.02678571428571441\n"
     ]
    }
   ],
   "source": [
    "trained_Classifier = train_score_Classifier(sklearn_Classifier = DecisionTreeClassifier,\n",
    "                                          X_train = X_train, \n",
    "                                          y_train = y_train, \n",
    "                                          X_test = X_test, \n",
    "                                          y_test = y_test, \n",
    "                                          model_parameters = {'random_state':42})"
   ]
  },
  {
   "cell_type": "markdown",
   "metadata": {},
   "source": [
    "**Parameter tuning**"
   ]
  },
  {
   "cell_type": "code",
   "execution_count": 37,
   "metadata": {},
   "outputs": [
    {
     "name": "stdout",
     "output_type": "stream",
     "text": [
      "Train Set Score: 0.42997585761278195\n",
      "Test Set Score: 0.27017227608816974\n"
     ]
    }
   ],
   "source": [
    "# Define the model parameters \n",
    "# We are fixing the random state so that the results are reproducible and consistent.\n",
    "parameters = {\"max_depth\":2,\n",
    "              'random_state':42}\n",
    "\n",
    "# Train and evaluate the model\n",
    "trained_Classifier = train_score_Classifier(sklearn_Classifier=DecisionTreeClassifier,\n",
    "                                          X_train=X_train, \n",
    "                                          y_train=y_train, \n",
    "                                          X_test=X_test, \n",
    "                                          y_test=y_test, \n",
    "                                          model_parameters=parameters)"
   ]
  },
  {
   "cell_type": "markdown",
   "metadata": {},
   "source": [
    "**GridSearchCV**"
   ]
  },
  {
   "cell_type": "code",
   "execution_count": 40,
   "metadata": {},
   "outputs": [
    {
     "name": "stderr",
     "output_type": "stream",
     "text": [
      "C:\\Users\\CHERPENS\\Anaconda3\\lib\\site-packages\\sklearn\\model_selection\\_split.py:1978: FutureWarning: The default value of cv will change from 3 to 5 in version 0.22. Specify it explicitly to silence this warning.\n",
      "  warnings.warn(CV_WARNING, FutureWarning)\n"
     ]
    },
    {
     "data": {
      "text/plain": [
       "GridSearchCV(cv='warn', error_score='raise-deprecating',\n",
       "             estimator=DecisionTreeRegressor(criterion='mse', max_depth=None,\n",
       "                                             max_features=None,\n",
       "                                             max_leaf_nodes=None,\n",
       "                                             min_impurity_decrease=0.0,\n",
       "                                             min_impurity_split=None,\n",
       "                                             min_samples_leaf=1,\n",
       "                                             min_samples_split=2,\n",
       "                                             min_weight_fraction_leaf=0.0,\n",
       "                                             presort=False, random_state=42,\n",
       "                                             splitter='best'),\n",
       "             iid='warn', n_jobs=None,\n",
       "             param_grid={'max_depth': [6, 4, 10],\n",
       "                         'min_samples_leaf': [10, 20, 30],\n",
       "                         'min_samples_split': [0.1, 0.05, 0.2]},\n",
       "             pre_dispatch='2*n_jobs', refit=True, return_train_score=False,\n",
       "             scoring=None, verbose=0)"
      ]
     },
     "execution_count": 40,
     "metadata": {},
     "output_type": "execute_result"
    }
   ],
   "source": [
    "# Set parameters to search through - known as parameter grid\n",
    "parameters = {'max_depth': [6, 4, 10], \n",
    "              'min_samples_split':[0.1, 0.05, 0.2], \n",
    "              'min_samples_leaf': [10, 20, 30]}\n",
    "\n",
    "# Initialize model\n",
    "decision_Classifier= DecisionTreeRegressor(random_state=42)\n",
    "\n",
    "# Initialize GridSearch and then fit\n",
    "Classifier = GridSearchCV(decision_Classifier, parameters)\n",
    "Classifier.fit(X_train, y_train)"
   ]
  },
  {
   "cell_type": "code",
   "execution_count": 41,
   "metadata": {},
   "outputs": [
    {
     "data": {
      "text/plain": [
       "{'criterion': 'mse',\n",
       " 'max_depth': 6,\n",
       " 'max_features': None,\n",
       " 'max_leaf_nodes': None,\n",
       " 'min_impurity_decrease': 0.0,\n",
       " 'min_impurity_split': None,\n",
       " 'min_samples_leaf': 20,\n",
       " 'min_samples_split': 0.1,\n",
       " 'min_weight_fraction_leaf': 0.0,\n",
       " 'presort': False,\n",
       " 'random_state': 42,\n",
       " 'splitter': 'best'}"
      ]
     },
     "execution_count": 41,
     "metadata": {},
     "output_type": "execute_result"
    }
   ],
   "source": [
    "# printing out what GridSearchCV found to be the best parameters \n",
    "Classifier.best_estimator_.get_params()"
   ]
  },
  {
   "cell_type": "code",
   "execution_count": 42,
   "metadata": {},
   "outputs": [
    {
     "name": "stdout",
     "output_type": "stream",
     "text": [
      "Train Set Score: 0.47270511150034156\n",
      "Test Set Score: 0.2977319744494674\n"
     ]
    }
   ],
   "source": [
    "# evaluate the tuned model\n",
    "trained_Classifier = train_score_Classifier(sklearn_Classifier=DecisionTreeClassifier,\n",
    "                                          X_train=X_train, \n",
    "                                          y_train=y_train, \n",
    "                                          X_test=X_test, \n",
    "                                          y_test=y_test, \n",
    "                                          model_parameters=Classifier.best_estimator_.get_params())"
   ]
  }
 ],
 "metadata": {
  "kernelspec": {
   "display_name": "Python 3",
   "language": "python",
   "name": "python3"
  },
  "language_info": {
   "codemirror_mode": {
    "name": "ipython",
    "version": 3
   },
   "file_extension": ".py",
   "mimetype": "text/x-python",
   "name": "python",
   "nbconvert_exporter": "python",
   "pygments_lexer": "ipython3",
   "version": "3.7.4"
  }
 },
 "nbformat": 4,
 "nbformat_minor": 4
}
